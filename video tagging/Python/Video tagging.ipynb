{
 "cells": [
  {
   "cell_type": "code",
   "execution_count": 18,
   "metadata": {
    "collapsed": true
   },
   "outputs": [],
   "source": [
    "import json\n",
    "from watson_developer_cloud import VisualRecognitionV3"
   ]
  },
  {
   "cell_type": "code",
   "execution_count": 19,
   "metadata": {},
   "outputs": [
    {
     "ename": "KeyboardInterrupt",
     "evalue": "",
     "output_type": "error",
     "traceback": [
      "\u001b[0;31m---------------------------------------------------------------------------\u001b[0m",
      "\u001b[0;31mKeyboardInterrupt\u001b[0m                         Traceback (most recent call last)",
      "\u001b[0;32m<ipython-input-19-c43659b2988a>\u001b[0m in \u001b[0;36m<module>\u001b[0;34m()\u001b[0m\n\u001b[1;32m     11\u001b[0m \u001b[0;32mwhile\u001b[0m \u001b[0mrval\u001b[0m\u001b[0;34m:\u001b[0m\u001b[0;34m\u001b[0m\u001b[0m\n\u001b[1;32m     12\u001b[0m     \u001b[0mrval\u001b[0m\u001b[0;34m,\u001b[0m \u001b[0mframe\u001b[0m \u001b[0;34m=\u001b[0m \u001b[0mvc\u001b[0m\u001b[0;34m.\u001b[0m\u001b[0mread\u001b[0m\u001b[0;34m(\u001b[0m\u001b[0;34m)\u001b[0m\u001b[0;34m\u001b[0m\u001b[0m\n\u001b[0;32m---> 13\u001b[0;31m     \u001b[0mcv2\u001b[0m\u001b[0;34m.\u001b[0m\u001b[0mimwrite\u001b[0m\u001b[0;34m(\u001b[0m\u001b[0;34m'image/'\u001b[0m\u001b[0;34m+\u001b[0m \u001b[0mstr\u001b[0m\u001b[0;34m(\u001b[0m\u001b[0mc\u001b[0m\u001b[0;34m)\u001b[0m \u001b[0;34m+\u001b[0m \u001b[0;34m'.jpg'\u001b[0m\u001b[0;34m,\u001b[0m\u001b[0mframe\u001b[0m\u001b[0;34m)\u001b[0m\u001b[0;34m\u001b[0m\u001b[0m\n\u001b[0m\u001b[1;32m     14\u001b[0m     \u001b[0mrval\u001b[0m \u001b[0;34m=\u001b[0m \u001b[0mrval\u001b[0m\u001b[0;34m+\u001b[0m\u001b[0;36m20\u001b[0m\u001b[0;34m\u001b[0m\u001b[0m\n\u001b[1;32m     15\u001b[0m     \u001b[0mc\u001b[0m \u001b[0;34m=\u001b[0m \u001b[0mc\u001b[0m \u001b[0;34m+\u001b[0m \u001b[0;36m1\u001b[0m\u001b[0;34m\u001b[0m\u001b[0m\n",
      "\u001b[0;31mKeyboardInterrupt\u001b[0m: "
     ]
    }
   ],
   "source": [
    "import cv2\n",
    "\n",
    "vc = cv2.VideoCapture('video/Jurassic1.mp4')\n",
    "c=1\n",
    "\n",
    "if vc.isOpened():\n",
    "    rval , frame = vc.read()\n",
    "else:\n",
    "    rval = False\n",
    "\n",
    "while rval:\n",
    "    rval, frame = vc.read()\n",
    "    cv2.imwrite('image/'+ str(c) + '.jpg',frame)\n",
    "    rval = rval+20\n",
    "    c = c + 1\n",
    "    cv2.waitKey(1)\n",
    "vc.release()"
   ]
  },
  {
   "cell_type": "code",
   "execution_count": 20,
   "metadata": {},
   "outputs": [
    {
     "name": "stdout",
     "output_type": "stream",
     "text": [
      "{\"images\": [{\"classifiers\": [{\"classes\": [{\"score\": 0.786, \"class\": \"steam locomotive\", \"type_hierarchy\": \"/vehicle/wheeled vehicle/locomotive/steam locomotive\"}, {\"score\": 0.908, \"class\": \"locomotive\"}, {\"score\": 0.908, \"class\": \"wheeled vehicle\"}, {\"score\": 0.908, \"class\": \"vehicle\"}, {\"score\": 0.77, \"class\": \"steam engine\", \"type_hierarchy\": \"/machine/motor/engine/steam engine\"}, {\"score\": 0.77, \"class\": \"engine\"}, {\"score\": 0.77, \"class\": \"motor\"}, {\"score\": 0.77, \"class\": \"machine\"}, {\"score\": 0.693, \"class\": \"geartrain\", \"type_hierarchy\": \"/mechanical device/geartrain\"}, {\"score\": 0.693, \"class\": \"mechanical device\"}, {\"score\": 0.5, \"class\": \"tank engine\", \"type_hierarchy\": \"/vehicle/wheeled vehicle/locomotive/tank engine\"}, {\"score\": 0.901, \"class\": \"gray color\"}, {\"score\": 0.608, \"class\": \"black color\"}], \"classifier_id\": \"default\", \"name\": \"default\"}], \"resolved_url\": \"http://i.imgur.com/EmSTlTc.jpg\", \"source_url\": \"http://i.imgur.com/EmSTlTc.jpg\"}], \"custom_classes\": 0, \"images_processed\": 1}\n"
     ]
    }
   ],
   "source": [
    "visual_recognition = VisualRecognitionV3('2016-05-20', api_key='e91e544b63aca2f6717c428c7dc20b8af601cd2a')\n",
    "\n",
    "#classify an image By URL\n",
    "results = visual_recognition.classify(images_url=\"http://i.imgur.com/EmSTlTc.jpg\")\n",
    "print(json.dumps(results))"
   ]
  },
  {
   "cell_type": "code",
   "execution_count": null,
   "metadata": {
    "collapsed": true
   },
   "outputs": [],
   "source": []
  }
 ],
 "metadata": {
  "kernelspec": {
   "display_name": "Python 2",
   "language": "python",
   "name": "python2"
  },
  "language_info": {
   "codemirror_mode": {
    "name": "ipython",
    "version": 2
   },
   "file_extension": ".py",
   "mimetype": "text/x-python",
   "name": "python",
   "nbconvert_exporter": "python",
   "pygments_lexer": "ipython2",
   "version": "2.7.13"
  }
 },
 "nbformat": 4,
 "nbformat_minor": 2
}
